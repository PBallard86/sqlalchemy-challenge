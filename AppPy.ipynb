{
 "cells": [
  {
   "cell_type": "code",
   "execution_count": null,
   "id": "7c941e4e",
   "metadata": {},
   "outputs": [],
   "source": [
    "import sqlalchemy\n",
    "from sqlalchemy.ext.automap import automap_base\n",
    "from sqlalchemy.orm import Session\n",
    "from sqlalchemy import create_engine, func, inspect\n",
    "\n",
    "import numpy as np\n",
    "import pandas as pd\n",
    "from datetime import datetime, timedelta\n",
    "\n",
    "from flask import Flask, jsonify"
   ]
  },
  {
   "cell_type": "code",
   "execution_count": null,
   "id": "a577262b",
   "metadata": {},
   "outputs": [],
   "source": [
    "engine = create_engine(\"sqlite:///Resources/hawaii.sqlite\")"
   ]
  },
  {
   "cell_type": "code",
   "execution_count": null,
   "id": "edd9aae5",
   "metadata": {},
   "outputs": [],
   "source": [
    "# reflect an existing database into a new model\n",
    "Base = automap_base()"
   ]
  },
  {
   "cell_type": "code",
   "execution_count": null,
   "id": "3a5d4d33",
   "metadata": {},
   "outputs": [],
   "source": [
    "# reflect the tables\n",
    "Base.prepare(autoload_with=engine)"
   ]
  },
  {
   "cell_type": "code",
   "execution_count": null,
   "id": "9bd38ab6",
   "metadata": {},
   "outputs": [],
   "source": [
    "# Save references to each table\n",
    "Measurement = Base.classes.measurement\n",
    "Station = Base.classes.station"
   ]
  },
  {
   "cell_type": "code",
   "execution_count": null,
   "id": "f4a536e6",
   "metadata": {},
   "outputs": [],
   "source": [
    "# Flask Setup\n",
    "#################################################\n",
    "app = Flask(__name__)"
   ]
  },
  {
   "cell_type": "code",
   "execution_count": null,
   "id": "7eb0de34",
   "metadata": {},
   "outputs": [],
   "source": []
  },
  {
   "cell_type": "code",
   "execution_count": null,
   "id": "3bbc229d",
   "metadata": {},
   "outputs": [],
   "source": [
    "@app.route(\"/\")\n",
    "def home():\n",
    "    \"\"\"List all available api routes.\"\"\"\n",
    "    return (\n",
    "        f\"Available Routes:<br/>\"\n",
    "        f\"Precipitation Query: /api/v1.0/precipitation<br/>\"\n",
    "        f\"Stations Query: /api/v1.0/stations<br/>\"\n",
    "        f\"Temperature Query (most active station): /api/v1.0/tobs<br/>\"\n",
    "        f\"Temperature from Start Date Query (yyyy-mm-dd): /api/v1.0/start<br/>\"\n",
    "        f\"Temperature for Date Range Query (yyyy-mm-dd/yyyy-mm-dd): /api/v1.0/start/end<br/>\"\n",
    "    )"
   ]
  },
  {
   "cell_type": "code",
   "execution_count": null,
   "id": "da53fc3c",
   "metadata": {},
   "outputs": [],
   "source": [
    "def precipitation():\n",
    "    \n",
    "    # Initialize the session\n",
    "    session = Session(engine)\n",
    "    \n",
    "    # Get the most recent date as well as the date 12 months ago\n",
    "    most_recent_date = session.query(Measurement.date).order_by(Measurement.date.desc()).distinct().first()\n",
    "    most_recent_date = datetime.strptime(most_recent_date[0], \"%Y-%m-%d\")\n",
    "\n",
    "    # Calculate the date one year from the last date in data set.\n",
    "    twelve_months_ago = most_recent_date - timedelta(days=365)\n",
    "    \n",
    "    # Convert back to strings\n",
    "    most_recent_date = most_recent_date.strftime(\"%Y-%m-%d\")\n",
    "    twelve_months_ago = twelve_months_ago.strftime(\"%Y-%m-%d\")\n",
    "    \n",
    "    # Query the last 12 months of data. \n",
    "    # Since we are going straight to a dict, adding Measurement.prcp.isnot(None) filter to query to account for any Null values for precipitation\n",
    "    last_yr_precip_data = session.query(Measurement.date, Measurement.prcp).filter(Measurement.date >= twelve_months_ago).\\\n",
    "        filter(Measurement.prcp.isnot(None)).all()\n",
    "\n",
    "    # Place results in a dictionary using a dictionary comprehension\n",
    "    precip_data_dict = {row.date: row.prcp for row in  last_yr_precip_data}\n",
    "    \n",
    "    # Close the session\n",
    "    session.close()\n",
    "    \n",
    "    # return the jsonified version of the dictionary\n",
    "    return jsonify(precip_data_dict)  \n",
    "            \n",
    "@app.route(\"/api/v1.0/stations\")"
   ]
  },
  {
   "cell_type": "code",
   "execution_count": null,
   "id": "6c62b3e4",
   "metadata": {},
   "outputs": [],
   "source": [
    "def stations():\n",
    "    # Initialize the session\n",
    "    session = Session(engine)\n",
    "    \n",
    "    \n",
    "    # Query for station and then put resi\n",
    "    station_result = session.query(Station.station).all()\n",
    "    station_list = [station[0] for station in station_result]  \n",
    "    \n",
    "    # Close the session\n",
    "    session.close()  \n",
    "\n",
    "    # return the jsonified station list\n",
    "    return jsonify(station_list)\n"
   ]
  },
  {
   "cell_type": "code",
   "execution_count": null,
   "id": "7fe53e50",
   "metadata": {},
   "outputs": [],
   "source": [
    "def temp_most_active_station():\n",
    "\n",
    "    # Initialize the session\n",
    "    session = Session(engine)\n",
    "    json_list = []\n",
    "    \n",
    "    # Retrieve the most active station by\n",
    "    most_active_station_count = session.query(Measurement.station, func.count(Measurement.id)).\\\n",
    "        join(Station, Station.station == Measurement.station).group_by(Measurement.station).\\\n",
    "        order_by(func.count(Measurement.id).desc()).all() \n",
    "    \n",
    "    most_active_station = most_active_station_count[0][0]"
   ]
  },
  {
   "cell_type": "code",
   "execution_count": null,
   "id": "ecb9595b",
   "metadata": {},
   "outputs": [],
   "source": [
    " # Get the most recent date as well as the date 12 months ago\n",
    "most_recent_date = session.query(Measurement.date).order_by(Measurement.date.desc()).distinct().first()\n",
    "most_recent_date = datetime.strptime(most_recent_date[0], \"%Y-%m-%d\")"
   ]
  },
  {
   "cell_type": "code",
   "execution_count": null,
   "id": "715e9970",
   "metadata": {},
   "outputs": [],
   "source": [
    "# Calculate the date one year from the last date in data set.\n",
    "twelve_months_ago = most_recent_date - timedelta(days=365)"
   ]
  },
  {
   "cell_type": "code",
   "execution_count": null,
   "id": "453e1894",
   "metadata": {},
   "outputs": [],
   "source": [
    "# Convert back to strings\n",
    "most_recent_date = most_recent_date.strftime(\"%Y-%m-%d\")\n",
    "twelve_months_ago = twelve_months_ago.strftime(\"%Y-%m-%d\")"
   ]
  },
  {
   "cell_type": "code",
   "execution_count": null,
   "id": "56876604",
   "metadata": {},
   "outputs": [],
   "source": [
    "# Query the last 12 months of temp data for the most active station. \n",
    "temp_data_most_active_station = session.query(Measurement.date, Measurement.tobs).filter(Measurement.date >= twelve_months_ago).\\\n",
    "filter(Measurement.station == most_active_station).all()"
   ]
  },
  {
   "cell_type": "code",
   "execution_count": null,
   "id": "2d3ae4a2",
   "metadata": {},
   "outputs": [],
   "source": [
    "# put in a list per the challenge question\n",
    "temp_data_dict = {row.date: row.tobs for row in  temp_data_most_active_station}   \n",
    "json_list.append(temp_data_dict)"
   ]
  },
  {
   "cell_type": "code",
   "execution_count": null,
   "id": "21878a20",
   "metadata": {},
   "outputs": [],
   "source": [
    "# Close the session\n",
    "session.close()"
   ]
  },
  {
   "cell_type": "code",
   "execution_count": null,
   "id": "091fb6af",
   "metadata": {},
   "outputs": [],
   "source": [
    "# return the jsonified version of the dictionary\n",
    "return jsonify(json_list) "
   ]
  },
  {
   "cell_type": "code",
   "execution_count": null,
   "id": "037c8c2c",
   "metadata": {},
   "outputs": [],
   "source": [
    " # Close the session\n",
    "session.close() \n",
    "\n",
    "return most_active_station"
   ]
  },
  {
   "cell_type": "code",
   "execution_count": null,
   "id": "ba736262",
   "metadata": {},
   "outputs": [],
   "source": [
    "@app.route(\"/api/v1.0/<start>\")\n",
    "def temp_start_summary(start):\n",
    "\n",
    "    # Initialize the engine\n",
    "    session = Session(engine)\n",
    "    \n",
    "    start_date_results = session.query(func.min(Measurement.tobs),func.max(Measurement.tobs),func.avg(Measurement.tobs)).\\\n",
    "        filter(Measurement.date >= start).all()"
   ]
  },
  {
   "cell_type": "code",
   "execution_count": null,
   "id": "df8fa7ca",
   "metadata": {},
   "outputs": [],
   "source": [
    "# We need to put in a check to see if the selected date has no data\n",
    "if start_date_results and all(value is None for value in start_date_results[0]):\n",
    "    return jsonify({\"Error\": \"No temperature data found for the given start date\"})\n",
    "\n",
    "    temp_dict = {\n",
    "        'Min Temp': start_date_results[0][0],\n",
    "        'Max Temp': start_date_results[0][1],\n",
    "        'Avg Temp': start_date_results[0][2]\n",
    "    }"
   ]
  },
  {
   "cell_type": "code",
   "execution_count": null,
   "id": "75396bd1",
   "metadata": {},
   "outputs": [],
   "source": [
    "# Close the session\n",
    "session.close() \n",
    "    \n",
    "return jsonify(temp_dict)"
   ]
  },
  {
   "cell_type": "code",
   "execution_count": null,
   "id": "7991b014",
   "metadata": {},
   "outputs": [],
   "source": [
    "def temp_range_summary(start, end):   \n",
    "    \n",
    "    # Initialize the engine\n",
    "    session = Session(engine)\n",
    "    \n",
    "    start_date_results = session.query(func.min(Measurement.tobs),func.max(Measurement.tobs),func.avg(Measurement.tobs)).\\\n",
    "        filter(Measurement.date >= start).filter(Measurement.date <= end).all()"
   ]
  },
  {
   "cell_type": "code",
   "execution_count": null,
   "id": "a9233fd5",
   "metadata": {},
   "outputs": [],
   "source": [
    " # We need to put in a check to see if the selected date has no data\n",
    "if start_date_results and all(value is None for value in start_date_results[0]):\n",
    "    return jsonify({\"Error\": \"No temperature data found for the given start date\"})\n",
    "\n",
    "    temp_dict = {\n",
    "        'Min Temp': start_date_results[0][0],\n",
    "        'Max Temp': start_date_results[0][1],\n",
    "        'Avg Temp': start_date_results[0][2]\n",
    "    }"
   ]
  },
  {
   "cell_type": "code",
   "execution_count": null,
   "id": "cde4605c",
   "metadata": {},
   "outputs": [],
   "source": [
    "# Close the session\n",
    "session.close()  \n",
    "    \n",
    "return jsonify(temp_dict)\n",
    "    \n",
    "if __name__ == \"__main__\":\n",
    "    app.run(debug=True)"
   ]
  }
 ],
 "metadata": {
  "kernelspec": {
   "display_name": "Python 3 (ipykernel)",
   "language": "python",
   "name": "python3"
  },
  "language_info": {
   "codemirror_mode": {
    "name": "ipython",
    "version": 3
   },
   "file_extension": ".py",
   "mimetype": "text/x-python",
   "name": "python",
   "nbconvert_exporter": "python",
   "pygments_lexer": "ipython3",
   "version": "3.11.5"
  }
 },
 "nbformat": 4,
 "nbformat_minor": 5
}
